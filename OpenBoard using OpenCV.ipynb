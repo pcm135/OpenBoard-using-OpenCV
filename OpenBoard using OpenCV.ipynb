{
 "cells": [
  {
   "cell_type": "code",
   "execution_count": 2,
   "id": "b222611e",
   "metadata": {},
   "outputs": [
    {
     "name": "stdout",
     "output_type": "stream",
     "text": [
      "Collecting opencv-python\n",
      "  Using cached opencv_python-4.5.4.60-cp39-cp39-win_amd64.whl (35.1 MB)\n",
      "Requirement already satisfied: numpy>=1.19.3 in c:\\users\\litpu\\anaconda3\\lib\\site-packages (from opencv-python) (1.20.3)\n",
      "Installing collected packages: opencv-python\n",
      "Successfully installed opencv-python-4.5.4.60\n",
      "Note: you may need to restart the kernel to use updated packages.\n"
     ]
    }
   ],
   "source": [
    "pip install opencv-python --user"
   ]
  },
  {
   "cell_type": "code",
   "execution_count": 1,
   "id": "cf96b66e",
   "metadata": {},
   "outputs": [],
   "source": [
    "import cv2"
   ]
  },
  {
   "cell_type": "code",
   "execution_count": 12,
   "id": "3857c1d8",
   "metadata": {},
   "outputs": [],
   "source": [
    "cap = cv2.VideoCapture(0)"
   ]
  },
  {
   "cell_type": "code",
   "execution_count": 3,
   "id": "3d4ff9cb",
   "metadata": {},
   "outputs": [],
   "source": [
    "while True:\n",
    "    success, img = cap.read()\n",
    "    \n",
    "    \n",
    "    img = cv2.flip(img, 0)\n",
    "    cv2.imshow(\"OpenBoard\", img)\n",
    "    \n",
    "    \n",
    "    if cv2.waitKey(1) == 27:\n",
    "        break\n",
    "        \n",
    "        \n",
    "cap.release()\n",
    "cv2.destroyAllWindows()"
   ]
  },
  {
   "cell_type": "code",
   "execution_count": 7,
   "id": "55a5f1e2",
   "metadata": {},
   "outputs": [],
   "source": [
    "cap.release()\n",
    "cv2.destroyAllWindows()"
   ]
  },
  {
   "cell_type": "code",
   "execution_count": 5,
   "id": "98cac1d5",
   "metadata": {},
   "outputs": [
    {
     "name": "stdout",
     "output_type": "stream",
     "text": [
      "(480, 640, 3)\n"
     ]
    }
   ],
   "source": [
    "print(img.shape)"
   ]
  },
  {
   "cell_type": "code",
   "execution_count": 2,
   "id": "ce62f16e",
   "metadata": {},
   "outputs": [],
   "source": [
    "ml = 150\n",
    "max_x = ml + 250\n",
    "max_y = 50"
   ]
  },
  {
   "cell_type": "code",
   "execution_count": 3,
   "id": "92a578b7",
   "metadata": {},
   "outputs": [],
   "source": [
    "tool = cv2.imread(\"tool.png\")\n",
    "tool = tool.astype('uint8')"
   ]
  },
  {
   "cell_type": "code",
   "execution_count": 22,
   "id": "cdd16757",
   "metadata": {},
   "outputs": [],
   "source": [
    "cap = cv2.VideoCapture(0)\n",
    "while True:\n",
    "    success, img = cap.read()\n",
    "    \n",
    "    \n",
    "    img = cv2.flip(img, 1)\n",
    "    \n",
    "    img[:max_y, ml:max_x] = cv2.addWeighted(tool, 1, img[:max_y, ml:max_x], 0, 1)\n",
    "    cv2.imshow(\"OpenBoard\", img)\n",
    "    \n",
    "\n",
    "    if cv2.waitKey(1) == 27:\n",
    "        break\n",
    "        \n",
    "        \n",
    "cap.release()\n",
    "cv2.destroyAllWindows()"
   ]
  },
  {
   "cell_type": "code",
   "execution_count": 4,
   "id": "8a4aef30",
   "metadata": {},
   "outputs": [],
   "source": [
    "import mediapipe as mp"
   ]
  },
  {
   "cell_type": "code",
   "execution_count": 5,
   "id": "5de133b1",
   "metadata": {},
   "outputs": [],
   "source": [
    "hands = mp.solutions.hands\n",
    "hand_lankmark = hands.Hands(min_detection_confidence = 0.6, min_tracking_confidence = 0.6, max_num_hands = 1)\n",
    "draw = mp.solutions.drawing_utils"
   ]
  },
  {
   "cell_type": "code",
   "execution_count": 6,
   "id": "5f2b5473",
   "metadata": {},
   "outputs": [],
   "source": [
    "def getTool(x):\n",
    "    if(x < 50 + ml):\n",
    "        return \"line\"\n",
    "    elif x < 100 + ml:\n",
    "        return \"rectangle\"\n",
    "    \n",
    "    elif x < 150 + ml:\n",
    "        return \"draw\"\n",
    "    \n",
    "    elif x < 200 + ml:\n",
    "        return \"circle\"\n",
    "    \n",
    "    else:\n",
    "        return \"eraser\""
   ]
  },
  {
   "cell_type": "code",
   "execution_count": 8,
   "id": "7ac28bdc",
   "metadata": {},
   "outputs": [],
   "source": [
    "def index_raised(yi, y9):\n",
    "    if (y9 - yi) > 40:\n",
    "        return True\n",
    "    else:\n",
    "        return False"
   ]
  },
  {
   "cell_type": "code",
   "execution_count": 12,
   "id": "7f430081",
   "metadata": {},
   "outputs": [],
   "source": [
    "prev_x = 0\n",
    "prev_y = 0\n",
    "t = 4\n",
    "\n",
    "import numpy as np"
   ]
  },
  {
   "cell_type": "code",
   "execution_count": 22,
   "id": "34efb635",
   "metadata": {},
   "outputs": [],
   "source": [
    "flag = False"
   ]
  },
  {
   "cell_type": "code",
   "execution_count": null,
   "id": "fffa0650",
   "metadata": {},
   "outputs": [],
   "source": [
    "cap = cv2.VideoCapture(0)\n",
    "curr_tool = \"Select Tool\"\n",
    "\n",
    "mask = np.ones((480, 640)) * 255\n",
    "mask = mask.astype(\"uint8\")\n",
    "\n",
    "while True:\n",
    "    success, img = cap.read()\n",
    "    \n",
    "    \n",
    "    img = cv2.flip(img, 1)\n",
    "    \n",
    "    rgb = cv2.cvtColor(img, cv2.COLOR_BGR2RGB)\n",
    "    \n",
    "    result = hand_lankmark.process(rgb)\n",
    "    \n",
    "    if result.multi_hand_landmarks:\n",
    "        for i in result.multi_hand_landmarks:\n",
    "            draw.draw_landmarks(img, i, hands.HAND_CONNECTIONS)\n",
    "            \n",
    "            x, y = int(i.landmark[8].x * 640), int(i.landmark[8].y * 480)\n",
    "            \n",
    "            if x < max_x and y < max_y and x > ml:\n",
    "                curr_tool = getTool(x)\n",
    "#                 print(curr_tool)\n",
    "                \n",
    "            if curr_tool == \"draw\":\n",
    "                    xi, yi = int(i.landmark[12].x * 640), int(i.landmark[12].y * 480)\n",
    "                    y9 = int(i.landmark[9].y * 480)\n",
    "                    \n",
    "                    if index_raised(yi, y9):\n",
    "                        cv2.line(mask, (prev_x, prev_y), (x, y), 0, t)\n",
    "                        \n",
    "                        prev_x = x\n",
    "                        prev_y = y\n",
    "            elif curr_tool == \"line\":\n",
    "                xi, yi = int(i.landmark[12].x * 640), int(i.landmark[12].y * 480)\n",
    "                y9 = int(i.landmark[9].y * 480)\n",
    "\n",
    "                if index_raised(yi, y9):\n",
    "                    if not(flag):\n",
    "                        xii, yii = x, y\n",
    "                        flag = True\n",
    "\n",
    "                    cv2.line(img, (xii, yii), (x, y), (136, 46, 167), t)\n",
    "\n",
    "                else:\n",
    "                    if flag:\n",
    "                        cv2.line(mask, (xii, yii), (x, y), 0, t)\n",
    "                        flag = False\n",
    "                        \n",
    "                        \n",
    "            elif curr_tool == \"rectangle\":\n",
    "                xi, yi = int(i.landmark[12].x * 640), int(i.landmark[12].y * 480)\n",
    "                y9 = int(i.landmark[9].y * 480)\n",
    "\n",
    "                if index_raised(yi, y9):\n",
    "                    if not(flag):\n",
    "                        xii, yii = x, y\n",
    "                        flag = True\n",
    "\n",
    "#                     cv2.rectangle(img, (xii, yii), (x, y), (136, 46, 167), t)\n",
    "                    cv2.circle(img,(x,y),(((x-xii) ** 2 + (y-yii))^2) ** 0.5,(255,255,255),6)\n",
    "\n",
    "\n",
    "\n",
    "                else:\n",
    "                    if flag:\n",
    "                        cv2.rectangle(mask, (xii, yii), (x, y), 0, t)\n",
    "                        flag = False\n",
    "                        \n",
    "            elif curr_tool == \"eraser\":\n",
    "                xi, yi = int(i.landmark[12].x * 640), int(i.landmark[12].y * 480)\n",
    "                y9 = int(i.landmark[9].y * 480)\n",
    "\n",
    "                if index_raised(yi, y9):\n",
    "                    cv2.circle(img, (x, y), 50, (135, 56, 234), -1)\n",
    "                    cv2.circle(mask, (x, y), 50, (255, 255, 255), -1)\n",
    "                \n",
    "                \n",
    "    \n",
    "    img = cv2.bitwise_and(img, img, mask = mask)\n",
    "            \n",
    "    cv2.putText(img, curr_tool, (270+ml, 30), cv2.FONT_HERSHEY_SIMPLEX, 1 ,(0, 0, 255),2)\n",
    "    img[:max_y, ml:max_x] = cv2.addWeighted(tool, 1, img[:max_y, ml:max_x], 0, 1)\n",
    "    cv2.imshow(\"OpenBoard\", img)\n",
    "    \n",
    "\n",
    "    if cv2.waitKey(1) == 27:\n",
    "        break\n",
    "        \n",
    "        \n",
    "cap.release()\n",
    "cv2.destroyAllWindows()"
   ]
  },
  {
   "cell_type": "code",
   "execution_count": null,
   "id": "bb12008b",
   "metadata": {},
   "outputs": [],
   "source": []
  }
 ],
 "metadata": {
  "kernelspec": {
   "display_name": "Python 3 (ipykernel)",
   "language": "python",
   "name": "python3"
  },
  "language_info": {
   "codemirror_mode": {
    "name": "ipython",
    "version": 3
   },
   "file_extension": ".py",
   "mimetype": "text/x-python",
   "name": "python",
   "nbconvert_exporter": "python",
   "pygments_lexer": "ipython3",
   "version": "3.9.7"
  }
 },
 "nbformat": 4,
 "nbformat_minor": 5
}
